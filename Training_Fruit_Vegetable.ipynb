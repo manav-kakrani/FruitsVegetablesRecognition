{
  "nbformat": 4,
  "nbformat_minor": 0,
  "metadata": {
    "colab": {
      "provenance": []
    },
    "kernelspec": {
      "name": "python3",
      "display_name": "Python 3"
    },
    "language_info": {
      "name": "python"
    }
  },
  "cells": [
    {
      "cell_type": "markdown",
      "source": [
        "#Importing Dataset"
      ],
      "metadata": {
        "id": "R41G2TLg5qxf"
      }
    },
    {
      "cell_type": "code",
      "execution_count": 1,
      "metadata": {
        "id": "krAS--kZ5Lz_",
        "colab": {
          "base_uri": "https://localhost:8080/"
        },
        "outputId": "5cfd236f-7768-453d-c768-f623fdb5213f"
      },
      "outputs": [
        {
          "output_type": "stream",
          "name": "stdout",
          "text": [
            "Drive already mounted at /content/drive; to attempt to forcibly remount, call drive.mount(\"/content/drive\", force_remount=True).\n"
          ]
        }
      ],
      "source": [
        "from google.colab import drive\n",
        "drive.mount('/content/drive')"
      ]
    },
    {
      "cell_type": "code",
      "source": [
        "import tensorflow as tf\n",
        "import matplotlib.pyplot as plt"
      ],
      "metadata": {
        "id": "MOgiOi7t2fBv"
      },
      "execution_count": 2,
      "outputs": []
    },
    {
      "cell_type": "code",
      "source": [
        "training_set = tf.keras.utils.image_dataset_from_directory(\n",
        "    '/content/drive/MyDrive/archive/train',\n",
        "    labels=\"inferred\",\n",
        "    label_mode=\"categorical\",\n",
        "    class_names=None,\n",
        "    color_mode=\"rgb\",\n",
        "    batch_size=32,\n",
        "    image_size=(64, 64),\n",
        "    shuffle=True,\n",
        "    seed=None,\n",
        "    validation_split=None,\n",
        "    subset=None,\n",
        "    interpolation=\"bilinear\",\n",
        "    follow_links=False,\n",
        "    crop_to_aspect_ratio=False\n",
        ")"
      ],
      "metadata": {
        "colab": {
          "base_uri": "https://localhost:8080/"
        },
        "id": "4ohtXNAY2wE2",
        "outputId": "1dd281f2-06d6-4e30-d5cf-167085ce4932"
      },
      "execution_count": 3,
      "outputs": [
        {
          "output_type": "stream",
          "name": "stdout",
          "text": [
            "Found 3125 files belonging to 36 classes.\n"
          ]
        }
      ]
    },
    {
      "cell_type": "code",
      "source": [
        "validation_set = tf.keras.utils.image_dataset_from_directory(\n",
        "    '/content/drive/MyDrive/archive/validation',\n",
        "    labels=\"inferred\",\n",
        "    label_mode=\"categorical\",\n",
        "    class_names=None,\n",
        "    color_mode=\"rgb\",\n",
        "    batch_size=32,\n",
        "    image_size=(64, 64),\n",
        "    shuffle=True,\n",
        "    seed=None,\n",
        "    validation_split=None,\n",
        "    subset=None,\n",
        "    interpolation=\"bilinear\",\n",
        "    follow_links=False,\n",
        "    crop_to_aspect_ratio=False\n",
        ")"
      ],
      "metadata": {
        "colab": {
          "base_uri": "https://localhost:8080/"
        },
        "id": "IHcTxO6j4AWx",
        "outputId": "f4272673-6259-46c0-e564-5848b7e9fd1d"
      },
      "execution_count": 4,
      "outputs": [
        {
          "output_type": "stream",
          "name": "stdout",
          "text": [
            "Found 351 files belonging to 36 classes.\n"
          ]
        }
      ]
    },
    {
      "cell_type": "code",
      "source": [
        "cnn = tf.keras.models.Sequential()"
      ],
      "metadata": {
        "id": "mLNW_WKzoT2h"
      },
      "execution_count": 5,
      "outputs": []
    },
    {
      "cell_type": "code",
      "source": [
        "cnn.add(tf.keras.layers.Conv2D(filters=32,kernel_size=3,padding='same',activation='relu',input_shape=[64,64,3]))\n",
        "cnn.add(tf.keras.layers.Conv2D(filters=32,kernel_size=3,activation='relu'))\n",
        "cnn.add(tf.keras.layers.MaxPool2D(pool_size=2,strides=2))"
      ],
      "metadata": {
        "id": "4c2W-HTEofkN"
      },
      "execution_count": 6,
      "outputs": []
    },
    {
      "cell_type": "code",
      "source": [
        "cnn.add(tf.keras.layers.Dropout(0.25))"
      ],
      "metadata": {
        "id": "OD8pD-iGoiOW"
      },
      "execution_count": 7,
      "outputs": []
    },
    {
      "cell_type": "code",
      "source": [
        "cnn.add(tf.keras.layers.Conv2D(filters=64,kernel_size=3,padding='same',activation='relu'))\n",
        "cnn.add(tf.keras.layers.Conv2D(filters=64,kernel_size=3,activation='relu'))\n",
        "cnn.add(tf.keras.layers.MaxPool2D(pool_size=2,strides=2))"
      ],
      "metadata": {
        "id": "PYB52qOsolBg"
      },
      "execution_count": 8,
      "outputs": []
    },
    {
      "cell_type": "code",
      "source": [
        "cnn.add(tf.keras.layers.Dropout(0.25))"
      ],
      "metadata": {
        "id": "8ZJkR4FAonMK"
      },
      "execution_count": 9,
      "outputs": []
    },
    {
      "cell_type": "code",
      "source": [
        "cnn.add(tf.keras.layers.Flatten())"
      ],
      "metadata": {
        "id": "2RtxOa7SopPL"
      },
      "execution_count": 10,
      "outputs": []
    },
    {
      "cell_type": "code",
      "source": [
        "cnn.add(tf.keras.layers.Dense(units=512,activation='relu'))"
      ],
      "metadata": {
        "id": "8daxLn0zorvt"
      },
      "execution_count": 11,
      "outputs": []
    },
    {
      "cell_type": "code",
      "source": [
        "cnn.add(tf.keras.layers.Dense(units=256,activation='relu'))"
      ],
      "metadata": {
        "id": "AtINzl4UouD9"
      },
      "execution_count": 12,
      "outputs": []
    },
    {
      "cell_type": "code",
      "source": [
        "cnn.add(tf.keras.layers.Dropout(0.5)) #To avoid overfitting"
      ],
      "metadata": {
        "id": "cHSUT6vbowzt"
      },
      "execution_count": 13,
      "outputs": []
    },
    {
      "cell_type": "code",
      "source": [
        "#Output Layer\n",
        "cnn.add(tf.keras.layers.Dense(units=36,activation='softmax'))\n",
        ""
      ],
      "metadata": {
        "id": "9nu5l7yHozcs"
      },
      "execution_count": 14,
      "outputs": []
    },
    {
      "cell_type": "code",
      "source": [
        "cnn.compile(optimizer='adam',loss='categorical_crossentropy',metrics=['accuracy'])"
      ],
      "metadata": {
        "id": "HToFyFCmpDmk"
      },
      "execution_count": 15,
      "outputs": []
    },
    {
      "cell_type": "code",
      "source": [
        "cnn.summary()"
      ],
      "metadata": {
        "colab": {
          "base_uri": "https://localhost:8080/"
        },
        "id": "qWyjinaVpKSx",
        "outputId": "b150bb6f-d402-4804-fed0-3b8cbae06ce6"
      },
      "execution_count": 16,
      "outputs": [
        {
          "output_type": "stream",
          "name": "stdout",
          "text": [
            "Model: \"sequential\"\n",
            "_________________________________________________________________\n",
            " Layer (type)                Output Shape              Param #   \n",
            "=================================================================\n",
            " conv2d (Conv2D)             (None, 64, 64, 32)        896       \n",
            "                                                                 \n",
            " conv2d_1 (Conv2D)           (None, 62, 62, 32)        9248      \n",
            "                                                                 \n",
            " max_pooling2d (MaxPooling2  (None, 31, 31, 32)        0         \n",
            " D)                                                              \n",
            "                                                                 \n",
            " dropout (Dropout)           (None, 31, 31, 32)        0         \n",
            "                                                                 \n",
            " conv2d_2 (Conv2D)           (None, 31, 31, 64)        18496     \n",
            "                                                                 \n",
            " conv2d_3 (Conv2D)           (None, 29, 29, 64)        36928     \n",
            "                                                                 \n",
            " max_pooling2d_1 (MaxPoolin  (None, 14, 14, 64)        0         \n",
            " g2D)                                                            \n",
            "                                                                 \n",
            " dropout_1 (Dropout)         (None, 14, 14, 64)        0         \n",
            "                                                                 \n",
            " flatten (Flatten)           (None, 12544)             0         \n",
            "                                                                 \n",
            " dense (Dense)               (None, 512)               6423040   \n",
            "                                                                 \n",
            " dense_1 (Dense)             (None, 256)               131328    \n",
            "                                                                 \n",
            " dropout_2 (Dropout)         (None, 256)               0         \n",
            "                                                                 \n",
            " dense_2 (Dense)             (None, 36)                9252      \n",
            "                                                                 \n",
            "=================================================================\n",
            "Total params: 6629188 (25.29 MB)\n",
            "Trainable params: 6629188 (25.29 MB)\n",
            "Non-trainable params: 0 (0.00 Byte)\n",
            "_________________________________________________________________\n"
          ]
        }
      ]
    },
    {
      "cell_type": "code",
      "source": [
        "training_history = cnn.fit(x=training_set,validation_data=validation_set,epochs=32)"
      ],
      "metadata": {
        "colab": {
          "base_uri": "https://localhost:8080/"
        },
        "id": "2veDOPEqpeOg",
        "outputId": "766acac4-8f49-4552-9732-56de8752c365"
      },
      "execution_count": 17,
      "outputs": [
        {
          "output_type": "stream",
          "name": "stdout",
          "text": [
            "Epoch 1/32\n",
            "98/98 [==============================] - 751s 7s/step - loss: 6.3891 - accuracy: 0.0278 - val_loss: 3.5714 - val_accuracy: 0.0570\n",
            "Epoch 2/32\n",
            "98/98 [==============================] - 150s 1s/step - loss: 3.5447 - accuracy: 0.0442 - val_loss: 3.5151 - val_accuracy: 0.0627\n",
            "Epoch 3/32\n",
            "98/98 [==============================] - 156s 2s/step - loss: 3.3826 - accuracy: 0.0822 - val_loss: 3.0741 - val_accuracy: 0.2194\n",
            "Epoch 4/32\n",
            "98/98 [==============================] - 151s 1s/step - loss: 3.1498 - accuracy: 0.1395 - val_loss: 2.5915 - val_accuracy: 0.3818\n",
            "Epoch 5/32\n",
            "98/98 [==============================] - 149s 1s/step - loss: 2.8495 - accuracy: 0.1930 - val_loss: 2.0935 - val_accuracy: 0.5128\n",
            "Epoch 6/32\n",
            "98/98 [==============================] - 150s 1s/step - loss: 2.5648 - accuracy: 0.2698 - val_loss: 1.6534 - val_accuracy: 0.6638\n",
            "Epoch 7/32\n",
            "98/98 [==============================] - 153s 1s/step - loss: 2.2345 - accuracy: 0.3539 - val_loss: 1.2257 - val_accuracy: 0.7208\n",
            "Epoch 8/32\n",
            "98/98 [==============================] - 147s 1s/step - loss: 1.9477 - accuracy: 0.4362 - val_loss: 0.9698 - val_accuracy: 0.7920\n",
            "Epoch 9/32\n",
            "98/98 [==============================] - 147s 1s/step - loss: 1.5909 - accuracy: 0.5318 - val_loss: 0.8029 - val_accuracy: 0.8405\n",
            "Epoch 10/32\n",
            "98/98 [==============================] - 149s 1s/step - loss: 1.3294 - accuracy: 0.6083 - val_loss: 0.9379 - val_accuracy: 0.8006\n",
            "Epoch 11/32\n",
            "98/98 [==============================] - 164s 2s/step - loss: 1.1825 - accuracy: 0.6682 - val_loss: 0.6134 - val_accuracy: 0.8746\n",
            "Epoch 12/32\n",
            "98/98 [==============================] - 148s 1s/step - loss: 0.9792 - accuracy: 0.7178 - val_loss: 0.5749 - val_accuracy: 0.8661\n",
            "Epoch 13/32\n",
            "98/98 [==============================] - 155s 2s/step - loss: 0.9310 - accuracy: 0.7360 - val_loss: 0.4510 - val_accuracy: 0.9031\n",
            "Epoch 14/32\n",
            "98/98 [==============================] - 147s 1s/step - loss: 0.7469 - accuracy: 0.7834 - val_loss: 0.5094 - val_accuracy: 0.8661\n",
            "Epoch 15/32\n",
            "98/98 [==============================] - 151s 1s/step - loss: 0.6938 - accuracy: 0.8032 - val_loss: 0.4924 - val_accuracy: 0.8860\n",
            "Epoch 16/32\n",
            "98/98 [==============================] - 147s 1s/step - loss: 0.6587 - accuracy: 0.8138 - val_loss: 0.3828 - val_accuracy: 0.9145\n",
            "Epoch 17/32\n",
            "98/98 [==============================] - 148s 1s/step - loss: 0.5667 - accuracy: 0.8339 - val_loss: 0.5285 - val_accuracy: 0.9060\n",
            "Epoch 18/32\n",
            "98/98 [==============================] - 155s 2s/step - loss: 0.5081 - accuracy: 0.8477 - val_loss: 0.5125 - val_accuracy: 0.9231\n",
            "Epoch 19/32\n",
            "98/98 [==============================] - 146s 1s/step - loss: 0.4694 - accuracy: 0.8643 - val_loss: 0.3745 - val_accuracy: 0.9231\n",
            "Epoch 20/32\n",
            "98/98 [==============================] - 147s 1s/step - loss: 0.4049 - accuracy: 0.8861 - val_loss: 0.4184 - val_accuracy: 0.9373\n",
            "Epoch 21/32\n",
            "98/98 [==============================] - 148s 1s/step - loss: 0.4350 - accuracy: 0.8800 - val_loss: 0.4284 - val_accuracy: 0.9145\n",
            "Epoch 22/32\n",
            "98/98 [==============================] - 165s 2s/step - loss: 0.4127 - accuracy: 0.8848 - val_loss: 0.3643 - val_accuracy: 0.9345\n",
            "Epoch 23/32\n",
            "98/98 [==============================] - 149s 1s/step - loss: 0.3488 - accuracy: 0.9072 - val_loss: 0.3468 - val_accuracy: 0.9316\n",
            "Epoch 24/32\n",
            "98/98 [==============================] - 149s 1s/step - loss: 0.3059 - accuracy: 0.9069 - val_loss: 0.3191 - val_accuracy: 0.9459\n",
            "Epoch 25/32\n",
            "98/98 [==============================] - 154s 2s/step - loss: 0.3119 - accuracy: 0.9094 - val_loss: 0.3463 - val_accuracy: 0.9430\n",
            "Epoch 26/32\n",
            "98/98 [==============================] - 157s 2s/step - loss: 0.2753 - accuracy: 0.9200 - val_loss: 0.3279 - val_accuracy: 0.9430\n",
            "Epoch 27/32\n",
            "98/98 [==============================] - 150s 1s/step - loss: 0.2753 - accuracy: 0.9226 - val_loss: 0.3269 - val_accuracy: 0.9402\n",
            "Epoch 28/32\n",
            "98/98 [==============================] - 151s 1s/step - loss: 0.3141 - accuracy: 0.9168 - val_loss: 0.3800 - val_accuracy: 0.9487\n",
            "Epoch 29/32\n",
            "98/98 [==============================] - 153s 1s/step - loss: 0.3305 - accuracy: 0.9056 - val_loss: 0.2957 - val_accuracy: 0.9544\n",
            "Epoch 30/32\n",
            "98/98 [==============================] - 150s 1s/step - loss: 0.2880 - accuracy: 0.9165 - val_loss: 0.2806 - val_accuracy: 0.9487\n",
            "Epoch 31/32\n",
            "98/98 [==============================] - 147s 1s/step - loss: 0.2032 - accuracy: 0.9414 - val_loss: 0.2821 - val_accuracy: 0.9544\n",
            "Epoch 32/32\n",
            "98/98 [==============================] - 156s 2s/step - loss: 0.2295 - accuracy: 0.9376 - val_loss: 0.3062 - val_accuracy: 0.9544\n"
          ]
        }
      ]
    },
    {
      "cell_type": "code",
      "source": [
        "#Training set Accuracy\n",
        "train_loss, train_acc = cnn.evaluate(training_set)\n",
        "print('Training accuracy:', train_acc)"
      ],
      "metadata": {
        "colab": {
          "base_uri": "https://localhost:8080/"
        },
        "id": "IymNFZ3FBvd0",
        "outputId": "f2da0000-4f7b-4c42-84e6-07acc941849d"
      },
      "execution_count": 18,
      "outputs": [
        {
          "output_type": "stream",
          "name": "stdout",
          "text": [
            "98/98 [==============================] - 95s 890ms/step - loss: 0.0522 - accuracy: 0.9843\n",
            "Training accuracy: 0.9843199849128723\n"
          ]
        }
      ]
    },
    {
      "cell_type": "code",
      "source": [
        "#Validation set Accuracy\n",
        "val_loss, val_acc = cnn.evaluate(validation_set)\n",
        "print('Validation accuracy:', val_acc)\n"
      ],
      "metadata": {
        "colab": {
          "base_uri": "https://localhost:8080/"
        },
        "id": "2AqA3QxGCKfJ",
        "outputId": "8b740c4f-9511-4c36-d4db-a5f832b7edb3"
      },
      "execution_count": 19,
      "outputs": [
        {
          "output_type": "stream",
          "name": "stdout",
          "text": [
            "11/11 [==============================] - 13s 355ms/step - loss: 0.3062 - accuracy: 0.9544\n",
            "Validation accuracy: 0.9544159770011902\n"
          ]
        }
      ]
    },
    {
      "cell_type": "code",
      "source": [
        "cnn.save('trained_model.h5')"
      ],
      "metadata": {
        "id": "TqvICzFpCkQg"
      },
      "execution_count": 21,
      "outputs": []
    },
    {
      "cell_type": "code",
      "source": [
        "training_history.history #Return Dictionary of history"
      ],
      "metadata": {
        "colab": {
          "base_uri": "https://localhost:8080/"
        },
        "id": "2UZL_QQnCySu",
        "outputId": "27f050c5-2907-415c-fcad-ae9f096bb42f"
      },
      "execution_count": 22,
      "outputs": [
        {
          "output_type": "execute_result",
          "data": {
            "text/plain": [
              "{'loss': [6.389057636260986,\n",
              "  3.5447139739990234,\n",
              "  3.3826475143432617,\n",
              "  3.1497764587402344,\n",
              "  2.8494863510131836,\n",
              "  2.5647599697113037,\n",
              "  2.2345094680786133,\n",
              "  1.9477062225341797,\n",
              "  1.5908504724502563,\n",
              "  1.3293616771697998,\n",
              "  1.182505488395691,\n",
              "  0.979205846786499,\n",
              "  0.9309558868408203,\n",
              "  0.7468839883804321,\n",
              "  0.693822979927063,\n",
              "  0.6586694717407227,\n",
              "  0.5667358040809631,\n",
              "  0.5080991387367249,\n",
              "  0.4693853259086609,\n",
              "  0.4048808515071869,\n",
              "  0.4349796772003174,\n",
              "  0.41270411014556885,\n",
              "  0.34877288341522217,\n",
              "  0.3059004545211792,\n",
              "  0.3118925094604492,\n",
              "  0.27534714341163635,\n",
              "  0.275269478559494,\n",
              "  0.31405603885650635,\n",
              "  0.3305019438266754,\n",
              "  0.2879987359046936,\n",
              "  0.20324991643428802,\n",
              "  0.22952036559581757],\n",
              " 'accuracy': [0.02783999964594841,\n",
              "  0.04416000097990036,\n",
              "  0.08224000036716461,\n",
              "  0.13952000439167023,\n",
              "  0.1929599940776825,\n",
              "  0.26976001262664795,\n",
              "  0.35392001271247864,\n",
              "  0.43615999817848206,\n",
              "  0.5318400263786316,\n",
              "  0.6083199977874756,\n",
              "  0.6681600213050842,\n",
              "  0.7177600264549255,\n",
              "  0.7360000014305115,\n",
              "  0.7833600044250488,\n",
              "  0.8032000064849854,\n",
              "  0.813759982585907,\n",
              "  0.8339200019836426,\n",
              "  0.8476799726486206,\n",
              "  0.8643199801445007,\n",
              "  0.8860800266265869,\n",
              "  0.8799999952316284,\n",
              "  0.8848000168800354,\n",
              "  0.9071999788284302,\n",
              "  0.9068800210952759,\n",
              "  0.9094399809837341,\n",
              "  0.9200000166893005,\n",
              "  0.9225599765777588,\n",
              "  0.9168000221252441,\n",
              "  0.9056000113487244,\n",
              "  0.9164800047874451,\n",
              "  0.9414399862289429,\n",
              "  0.9376000165939331],\n",
              " 'val_loss': [3.5713541507720947,\n",
              "  3.5151479244232178,\n",
              "  3.0740883350372314,\n",
              "  2.5915284156799316,\n",
              "  2.0934929847717285,\n",
              "  1.653363585472107,\n",
              "  1.225746750831604,\n",
              "  0.9698372483253479,\n",
              "  0.8028809428215027,\n",
              "  0.937911868095398,\n",
              "  0.6134358644485474,\n",
              "  0.5749360918998718,\n",
              "  0.4510189890861511,\n",
              "  0.5093779563903809,\n",
              "  0.4923940896987915,\n",
              "  0.3828411400318146,\n",
              "  0.5285202264785767,\n",
              "  0.5125131607055664,\n",
              "  0.3744894564151764,\n",
              "  0.4183724820613861,\n",
              "  0.4284118413925171,\n",
              "  0.3643135726451874,\n",
              "  0.3467930853366852,\n",
              "  0.31913697719573975,\n",
              "  0.34626564383506775,\n",
              "  0.3279092609882355,\n",
              "  0.3268812298774719,\n",
              "  0.3800134062767029,\n",
              "  0.295669823884964,\n",
              "  0.2805964946746826,\n",
              "  0.28210848569869995,\n",
              "  0.30624914169311523],\n",
              " 'val_accuracy': [0.056980058550834656,\n",
              "  0.06267806142568588,\n",
              "  0.21937322616577148,\n",
              "  0.3817663788795471,\n",
              "  0.5128205418586731,\n",
              "  0.6638176441192627,\n",
              "  0.7207977175712585,\n",
              "  0.7920227646827698,\n",
              "  0.8404558300971985,\n",
              "  0.8005697727203369,\n",
              "  0.874643862247467,\n",
              "  0.8660968542098999,\n",
              "  0.9031339287757874,\n",
              "  0.8660968542098999,\n",
              "  0.8860399127006531,\n",
              "  0.9145299196243286,\n",
              "  0.9059829115867615,\n",
              "  0.9230769276618958,\n",
              "  0.9230769276618958,\n",
              "  0.9373219609260559,\n",
              "  0.9145299196243286,\n",
              "  0.934472918510437,\n",
              "  0.9316239356994629,\n",
              "  0.945868968963623,\n",
              "  0.9430199265480042,\n",
              "  0.9430199265480042,\n",
              "  0.94017094373703,\n",
              "  0.9487179517745972,\n",
              "  0.9544159770011902,\n",
              "  0.9487179517745972,\n",
              "  0.9544159770011902,\n",
              "  0.9544159770011902]}"
            ]
          },
          "metadata": {},
          "execution_count": 22
        }
      ]
    },
    {
      "cell_type": "code",
      "source": [
        "#Recording History in json\n",
        "import json\n",
        "with open('training_hist.json','w') as f:\n",
        "  json.dump(training_history.history,f)"
      ],
      "metadata": {
        "id": "GK-ppC72C1t6"
      },
      "execution_count": 23,
      "outputs": []
    },
    {
      "cell_type": "code",
      "source": [
        "print(training_history.history.keys())"
      ],
      "metadata": {
        "colab": {
          "base_uri": "https://localhost:8080/"
        },
        "id": "N5GQ4N6mC4Zk",
        "outputId": "66a8aa71-e9a6-42d6-9a85-4d0d8ac5d507"
      },
      "execution_count": 24,
      "outputs": [
        {
          "output_type": "stream",
          "name": "stdout",
          "text": [
            "dict_keys(['loss', 'accuracy', 'val_loss', 'val_accuracy'])\n"
          ]
        }
      ]
    },
    {
      "cell_type": "code",
      "source": [
        "print(\"Validation set Accuracy: {} %\".format(training_history.history['val_accuracy'][-1]*100))"
      ],
      "metadata": {
        "colab": {
          "base_uri": "https://localhost:8080/"
        },
        "id": "_sf79fPPC8Jj",
        "outputId": "3faa70ac-9587-4fd8-e43b-e7ad0ff24505"
      },
      "execution_count": 25,
      "outputs": [
        {
          "output_type": "stream",
          "name": "stdout",
          "text": [
            "Validation set Accuracy: 95.44159770011902 %\n"
          ]
        }
      ]
    },
    {
      "cell_type": "code",
      "source": [
        "#training_history.history['accuracy']"
      ],
      "metadata": {
        "id": "sRuy0oyPDA8G"
      },
      "execution_count": 26,
      "outputs": []
    },
    {
      "cell_type": "code",
      "source": [
        "epochs = [i for i in range(1,33)]\n",
        "plt.plot(epochs,training_history.history['accuracy'],color='red')\n",
        "plt.xlabel('No. of Epochs')\n",
        "plt.ylabel('Traiining Accuracy')\n",
        "plt.title('Visualization of Training Accuracy Result')\n",
        "plt.show()"
      ],
      "metadata": {
        "colab": {
          "base_uri": "https://localhost:8080/",
          "height": 472
        },
        "id": "6wC0h0QmDFBg",
        "outputId": "596d6d85-2681-4c97-f383-338084ba6a58"
      },
      "execution_count": 27,
      "outputs": [
        {
          "output_type": "display_data",
          "data": {
            "text/plain": [
              "<Figure size 640x480 with 1 Axes>"
            ],
            "image/png": "[encoded data removed]"
          },
          "metadata": {}
        }
      ]
    },
    {
      "cell_type": "code",
      "source": [
        "plt.plot(epochs,training_history.history['val_accuracy'],color='blue')\n",
        "plt.xlabel('No. of Epochs')\n",
        "plt.ylabel('Validation Accuracy')\n",
        "plt.title('Visualization of Validation Accuracy Result')\n",
        "plt.show()"
      ],
      "metadata": {
        "colab": {
          "base_uri": "https://localhost:8080/",
          "height": 472
        },
        "id": "Q4l5LyU5DIJ-",
        "outputId": "1e91eb71-8dca-4a7f-8c96-d48565872ae5"
      },
      "execution_count": 28,
      "outputs": [
        {
          "output_type": "display_data",
          "data": {
            "text/plain": [
              "<Figure size 640x480 with 1 Axes>"
            ],
            "image/png": "[encoded data removed]"
          },
          "metadata": {}
        }
      ]
    },
    {
      "cell_type": "code",
      "source": [
        "test_set = tf.keras.utils.image_dataset_from_directory(\n",
        "    '/content/drive/MyDrive/archive/test',\n",
        "    labels=\"inferred\",\n",
        "    label_mode=\"categorical\",\n",
        "    class_names=None,\n",
        "    color_mode=\"rgb\",\n",
        "    batch_size=32,\n",
        "    image_size=(64, 64),\n",
        "    shuffle=True,\n",
        "    seed=None,\n",
        "    validation_split=None,\n",
        "    subset=None,\n",
        "    interpolation=\"bilinear\",\n",
        "    follow_links=False,\n",
        "    crop_to_aspect_ratio=False\n",
        ")"
      ],
      "metadata": {
        "colab": {
          "base_uri": "https://localhost:8080/"
        },
        "id": "JzTC6tZXDPyE",
        "outputId": "8453da32-b140-41b4-e26b-2981cbd980a1"
      },
      "execution_count": 29,
      "outputs": [
        {
          "output_type": "stream",
          "name": "stdout",
          "text": [
            "Found 359 files belonging to 36 classes.\n"
          ]
        }
      ]
    },
    {
      "cell_type": "code",
      "source": [
        "test_loss,test_acc = cnn.evaluate(test_set)\n",
        "print('Test accuracy:', test_acc)"
      ],
      "metadata": {
        "colab": {
          "base_uri": "https://localhost:8080/"
        },
        "id": "I6DvwNUeDaVq",
        "outputId": "278fc10c-166b-4a2a-f461-a887dd7085f4"
      },
      "execution_count": 30,
      "outputs": [
        {
          "output_type": "stream",
          "name": "stdout",
          "text": [
            "12/12 [==============================] - 65s 1s/step - loss: 0.2994 - accuracy: 0.9554\n",
            "Test accuracy: 0.9554317593574524\n"
          ]
        }
      ]
    }
  ]
}